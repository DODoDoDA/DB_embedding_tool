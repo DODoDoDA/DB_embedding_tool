{
 "cells": [
  {
   "cell_type": "code",
   "execution_count": 5,
   "metadata": {},
   "outputs": [
    {
     "name": "stdout",
     "output_type": "stream",
     "text": [
      "['I', 'like', 'go', 'to', 'by', 'dog', 'cat', 'school', 'bus', 'work', 'subway']\n",
      "[[ 0.01543278  0.08505254]\n",
      " [ 0.14974654  0.12537156]\n",
      " [-0.08799631  0.05217764]\n",
      " [ 0.23700589  0.16724916]\n",
      " [-0.04954216 -0.07228141]\n",
      " [-0.24781796 -0.04430067]\n",
      " [ 0.1092858  -0.10127689]\n",
      " [ 0.19048561 -0.21589601]\n",
      " [-0.17807962  0.11068833]\n",
      " [ 0.19567503 -0.03791449]\n",
      " [ 0.19910036  0.05113211]]\n",
      "<class 'numpy.ndarray'>\n"
     ]
    },
    {
     "data": {
      "image/png": "[encoded data removed]",
      "text/plain": [
       "<Figure size 432x432 with 1 Axes>"
      ]
     },
     "metadata": {
      "needs_background": "light"
     },
     "output_type": "display_data"
    }
   ],
   "source": [
    "from gensim.models import Word2Vec\n",
    "import numpy as np\n",
    "import matplotlib.pyplot as plt\n",
    "from sklearn.decomposition import PCA#用降维的应该能画多维的距离关系了\n",
    "import pandas as pd\n",
    "model = Word2Vec.load(\"./testmodel.bin\")\n",
    "\n",
    "def draw(model, sample):\n",
    "    words = model.wv.index_to_key\n",
    "    print(words)#词袋里的词\n",
    "    \n",
    "    word_vectors = np.array([model.wv[w] for w in words])\n",
    "    print(word_vectors)#词向量\n",
    "    print(type(model.wv['I']))\n",
    "\n",
    "    twodim = PCA().fit_transform(word_vectors)[:,:2]\n",
    "    \n",
    "    plt.figure(figsize=(6,6))\n",
    "    plt.scatter(twodim[:,0], twodim[:,1], edgecolors='k', c='r')\n",
    "    for word, (x,y) in zip(words, twodim):\n",
    "        plt.text(x, y, word)\n",
    "\n",
    "draw(model, sample=5)"
   ]
  },
  {
   "cell_type": "code",
   "execution_count": 14,
   "metadata": {},
   "outputs": [],
   "source": [
    "\n",
    "\n",
    "\n",
    "#V2\n",
    "emb = (\n",
    "    pd.DataFrame(\n",
    "        [model.wv.get_vector(str(n)) for n in model.wv.key_to_index],\n",
    "        index = model.wv.key_to_index\n",
    "    )\n",
    ")"
   ]
  },
  {
   "cell_type": "code",
   "execution_count": 15,
   "metadata": {},
   "outputs": [
    {
     "name": "stdout",
     "output_type": "stream",
     "text": [
      "             0         1\n",
      "I     0.015433  0.085053\n",
      "like  0.149747  0.125372\n",
      "dog  -0.247818 -0.044301\n",
      "cat   0.109286 -0.101277\n",
      "go   -0.087996  0.052178\n"
     ]
    }
   ],
   "source": [
    "print(emb.head())"
   ]
  },
  {
   "cell_type": "code",
   "execution_count": 16,
   "metadata": {},
   "outputs": [
    {
     "data": {
      "text/plain": [
       "[]"
      ]
     },
     "execution_count": 16,
     "metadata": {},
     "output_type": "execute_result"
    },
    {
     "data": {
      "text/plain": [
       "<Figure size 432x288 with 0 Axes>"
      ]
     },
     "metadata": {},
     "output_type": "display_data"
    },
    {
     "data": {
      "image/png": "[encoded data removed]",
      "text/plain": [
       "<Figure size 432x288 with 1 Axes>"
      ]
     },
     "metadata": {
      "needs_background": "light"
     },
     "output_type": "display_data"
    }
   ],
   "source": [
    "pca = PCA(n_components=2, random_state=7)\n",
    "pca_mdl = pca.fit_transform(emb_df)\n",
    "\n",
    "emb_df_PCA = (\n",
    "    pd.DataFrame(\n",
    "        pca_mdl,\n",
    "        columns=['x','y'],\n",
    "        index = emb_df.index\n",
    "    )\n",
    ")\n",
    "\n",
    "plt.clf()\n",
    "fig = plt.figure(figsize=(6,4))\n",
    "\n",
    "plt.scatter(\n",
    "    x = emb_df_PCA['x'],\n",
    "    y = emb_df_PCA['y'],\n",
    "    s = 0.4,\n",
    "    color = 'maroon',\n",
    "    alpha = 0.5\n",
    ")\n",
    "\n",
    "plt.xlabel('PCA-1')\n",
    "plt.ylabel('PCA-2')\n",
    "plt.title('PCA Visualization')\n",
    "plt.plot()\n"
   ]
  },
  {
   "cell_type": "code",
   "execution_count": null,
   "metadata": {},
   "outputs": [],
   "source": []
  }
 ],
 "metadata": {
  "kernelspec": {
   "display_name": "Python 3",
   "language": "python",
   "name": "python3"
  },
  "language_info": {
   "codemirror_mode": {
    "name": "ipython",
    "version": 3
   },
   "file_extension": ".py",
   "mimetype": "text/x-python",
   "name": "python",
   "nbconvert_exporter": "python",
   "pygments_lexer": "ipython3",
   "version": "3.8.5"
  }
 },
 "nbformat": 4,
 "nbformat_minor": 4
}
